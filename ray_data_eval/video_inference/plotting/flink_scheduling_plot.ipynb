{
 "cells": [
  {
   "cell_type": "markdown",
   "metadata": {},
   "source": [
    "### Reduce the number of rows\n",
    "We re-schedule the Flink events so that they take up four rows instead of eight."
   ]
  },
  {
   "cell_type": "code",
   "execution_count": 1,
   "metadata": {},
   "outputs": [],
   "source": [
    "import json\n",
    "import pandas as pd"
   ]
  },
  {
   "cell_type": "code",
   "execution_count": 2,
   "metadata": {},
   "outputs": [
    {
     "data": {
      "text/plain": [
       "cat\n",
       "task::MapBatches(consume)               800\n",
       "task::ReadRange->MapBatches(produce)    800\n",
       "Name: count, dtype: int64"
      ]
     },
     "execution_count": 2,
     "metadata": {},
     "output_type": "execute_result"
    }
   ],
   "source": [
    "df = pd.read_json('timeline.variable.flink.json')\n",
    "df = df.sort_values(by=['cat', 'tid', 'ts']).reset_index(drop=True)\n",
    "df['cat'].value_counts()"
   ]
  },
  {
   "cell_type": "code",
   "execution_count": 3,
   "metadata": {},
   "outputs": [
    {
     "name": "stdout",
     "output_type": "stream",
     "text": [
      "{'CPU:0': [], 'CPU:1': [], 'CPU:2': [], 'CPU:3': [], 'CPU:4': [], 'CPU:5': [], 'CPU:6': [], 'CPU:7': []}\n"
     ]
    },
    {
     "data": {
      "text/html": [
       "<div>\n",
       "<style scoped>\n",
       "    .dataframe tbody tr th:only-of-type {\n",
       "        vertical-align: middle;\n",
       "    }\n",
       "\n",
       "    .dataframe tbody tr th {\n",
       "        vertical-align: top;\n",
       "    }\n",
       "\n",
       "    .dataframe thead th {\n",
       "        text-align: right;\n",
       "    }\n",
       "</style>\n",
       "<table border=\"1\" class=\"dataframe\">\n",
       "  <thead>\n",
       "    <tr style=\"text-align: right;\">\n",
       "      <th></th>\n",
       "      <th>cat</th>\n",
       "      <th>name</th>\n",
       "      <th>pid</th>\n",
       "      <th>tid</th>\n",
       "      <th>ts</th>\n",
       "      <th>dur</th>\n",
       "      <th>ph</th>\n",
       "      <th>cname</th>\n",
       "      <th>args</th>\n",
       "    </tr>\n",
       "  </thead>\n",
       "  <tbody>\n",
       "    <tr>\n",
       "      <th>0</th>\n",
       "      <td>task::MapBatches(consume)</td>\n",
       "      <td>ray.data._internal.execution.operators.map_ope...</td>\n",
       "      <td>10.0.35.55</td>\n",
       "      <td>CPU:4</td>\n",
       "      <td>1.721595e+15</td>\n",
       "      <td>1061050.255</td>\n",
       "      <td>X</td>\n",
       "      <td>cq_build_passed</td>\n",
       "      <td>{'name': 'ray.data._internal.execution.operato...</td>\n",
       "    </tr>\n",
       "    <tr>\n",
       "      <th>1</th>\n",
       "      <td>task::MapBatches(consume)</td>\n",
       "      <td>ray.data._internal.execution.operators.map_ope...</td>\n",
       "      <td>10.0.35.55</td>\n",
       "      <td>CPU:4</td>\n",
       "      <td>1.721595e+15</td>\n",
       "      <td>1062319.622</td>\n",
       "      <td>X</td>\n",
       "      <td>cq_build_passed</td>\n",
       "      <td>{'name': 'ray.data._internal.execution.operato...</td>\n",
       "    </tr>\n",
       "    <tr>\n",
       "      <th>2</th>\n",
       "      <td>task::MapBatches(consume)</td>\n",
       "      <td>ray.data._internal.execution.operators.map_ope...</td>\n",
       "      <td>10.0.35.55</td>\n",
       "      <td>CPU:4</td>\n",
       "      <td>1.721595e+15</td>\n",
       "      <td>1061220.349</td>\n",
       "      <td>X</td>\n",
       "      <td>cq_build_passed</td>\n",
       "      <td>{'name': 'ray.data._internal.execution.operato...</td>\n",
       "    </tr>\n",
       "    <tr>\n",
       "      <th>3</th>\n",
       "      <td>task::MapBatches(consume)</td>\n",
       "      <td>ray.data._internal.execution.operators.map_ope...</td>\n",
       "      <td>10.0.35.55</td>\n",
       "      <td>CPU:4</td>\n",
       "      <td>1.721595e+15</td>\n",
       "      <td>1063604.098</td>\n",
       "      <td>X</td>\n",
       "      <td>cq_build_passed</td>\n",
       "      <td>{'name': 'ray.data._internal.execution.operato...</td>\n",
       "    </tr>\n",
       "    <tr>\n",
       "      <th>4</th>\n",
       "      <td>task::MapBatches(consume)</td>\n",
       "      <td>ray.data._internal.execution.operators.map_ope...</td>\n",
       "      <td>10.0.35.55</td>\n",
       "      <td>CPU:4</td>\n",
       "      <td>1.721595e+15</td>\n",
       "      <td>1057725.163</td>\n",
       "      <td>X</td>\n",
       "      <td>cq_build_passed</td>\n",
       "      <td>{'name': 'ray.data._internal.execution.operato...</td>\n",
       "    </tr>\n",
       "  </tbody>\n",
       "</table>\n",
       "</div>"
      ],
      "text/plain": [
       "                         cat  \\\n",
       "0  task::MapBatches(consume)   \n",
       "1  task::MapBatches(consume)   \n",
       "2  task::MapBatches(consume)   \n",
       "3  task::MapBatches(consume)   \n",
       "4  task::MapBatches(consume)   \n",
       "\n",
       "                                                name         pid    tid  \\\n",
       "0  ray.data._internal.execution.operators.map_ope...  10.0.35.55  CPU:4   \n",
       "1  ray.data._internal.execution.operators.map_ope...  10.0.35.55  CPU:4   \n",
       "2  ray.data._internal.execution.operators.map_ope...  10.0.35.55  CPU:4   \n",
       "3  ray.data._internal.execution.operators.map_ope...  10.0.35.55  CPU:4   \n",
       "4  ray.data._internal.execution.operators.map_ope...  10.0.35.55  CPU:4   \n",
       "\n",
       "             ts          dur ph            cname  \\\n",
       "0  1.721595e+15  1061050.255  X  cq_build_passed   \n",
       "1  1.721595e+15  1062319.622  X  cq_build_passed   \n",
       "2  1.721595e+15  1061220.349  X  cq_build_passed   \n",
       "3  1.721595e+15  1063604.098  X  cq_build_passed   \n",
       "4  1.721595e+15  1057725.163  X  cq_build_passed   \n",
       "\n",
       "                                                args  \n",
       "0  {'name': 'ray.data._internal.execution.operato...  \n",
       "1  {'name': 'ray.data._internal.execution.operato...  \n",
       "2  {'name': 'ray.data._internal.execution.operato...  \n",
       "3  {'name': 'ray.data._internal.execution.operato...  \n",
       "4  {'name': 'ray.data._internal.execution.operato...  "
      ]
     },
     "execution_count": 3,
     "metadata": {},
     "output_type": "execute_result"
    }
   ],
   "source": [
    "TIME_DELTA = 1_000_000\n",
    "COUNT = 0\n",
    "categories = {\n",
    "    'task::ReadRange->MapBatches(produce)': ['CPU:0', 'CPU:1', 'CPU:2', 'CPU:3'],\n",
    "    'task::MapBatches(consume)': ['CPU:4', 'CPU:5', 'CPU:6', 'CPU:7']\n",
    "}\n",
    "\n",
    "slot_occupancy = {cpu: [] for task_cpu_list in categories.values() for cpu in task_cpu_list}\n",
    "print(slot_occupancy)\n",
    "\n",
    "def find_vacant_slot(cat, start, duration, slot_occupancy):\n",
    "    \"\"\"Given an event's category, start time, and duration, find a vacant slot.\"\"\"\n",
    "    for cpu in categories[cat]:\n",
    "        conflicts = [curr for curr in slot_occupancy[cpu] if not (curr['end'] <= start or curr['start'] >= start + duration)]\n",
    "        if not conflicts: \n",
    "            slot_occupancy[cpu].append({'start': start, 'end': start + duration})\n",
    "            return cpu\n",
    "    \n",
    "    for cpu in categories[cat]:\n",
    "        conflicts = [curr for curr in slot_occupancy[cpu] if not (curr['end'] <= start + TIME_DELTA or curr['start'] >= start + duration - TIME_DELTA)]\n",
    "        if not conflicts: \n",
    "            slot_occupancy[cpu].append({'start': start, 'end': start + duration})\n",
    "            global COUNT \n",
    "            COUNT += 1\n",
    "            return cpu\n",
    "    return None \n",
    "\n",
    "df['tid'] = df.apply(lambda row: find_vacant_slot(row['cat'], row['ts'], row['dur'], slot_occupancy), axis=1)\n",
    "\n",
    "df.head()"
   ]
  },
  {
   "cell_type": "code",
   "execution_count": 4,
   "metadata": {},
   "outputs": [
    {
     "name": "stdout",
     "output_type": "stream",
     "text": [
      "0\n"
     ]
    }
   ],
   "source": [
    "print(len(df[df['tid'].isnull()]))"
   ]
  },
  {
   "cell_type": "code",
   "execution_count": 5,
   "metadata": {},
   "outputs": [],
   "source": [
    "df.to_json('timeline.variable.flink.assigned.json', orient='records')"
   ]
  },
  {
   "cell_type": "code",
   "execution_count": null,
   "metadata": {},
   "outputs": [],
   "source": []
  },
  {
   "cell_type": "markdown",
   "metadata": {},
   "source": [
    "### Visualization\n",
    "Ref `./long_video_plot.ipynb`"
   ]
  },
  {
   "cell_type": "code",
   "execution_count": 8,
   "metadata": {},
   "outputs": [],
   "source": [
    "import matplotlib.pyplot as plt\n",
    "import seaborn as sns\n",
    "import pandas as pd\n",
    "import os\n",
    "\n",
    "FIGRATIO = 2 / 5\n",
    "FIGWIDTH = 10  # inches\n",
    "FIGHEIGHT = FIGWIDTH * FIGRATIO\n",
    "FIGSIZE = (FIGWIDTH, FIGHEIGHT)\n",
    "\n",
    "plt.rcParams.update(\n",
    "    {\n",
    "        \"axes.labelsize\": 12,\n",
    "        \"axes.titlesize\": 12,\n",
    "        \"figure.figsize\": FIGSIZE,\n",
    "        \"figure.dpi\": 300,\n",
    "        \"font.size\": 12,\n",
    "        \"legend.fontsize\": 12,\n",
    "        \"xtick.labelsize\": 12,\n",
    "        \"ytick.labelsize\": 12,\n",
    "        \"text.usetex\": True,\n",
    "    }\n",
    ")\n",
    "\n",
    "COLORS = sns.color_palette(\"Paired\")\n",
    "sns.set_style(\"ticks\")\n",
    "sns.set_palette(COLORS)"
   ]
  },
  {
   "cell_type": "code",
   "execution_count": 10,
   "metadata": {},
   "outputs": [],
   "source": [
    "producer_task_name = \"task::ReadRange->MapBatches(produce)\"\n",
    "consumer_task_name = \"task::MapBatches(consume)\"\n",
    "\n",
    "def plot_task_timeline(df, ax):\n",
    "    global_start = 0\n",
    "    for index, row in df.iterrows():\n",
    "        if global_start == 0:\n",
    "            global_start = row.name\n",
    "            break\n",
    "    # Populate worker id for y coordinates\n",
    "    df = df[(df.index - global_start) / 1_000_000 >= 10]\n",
    "    df = df[(df[\"cat\"] == producer_task_name) | (df[\"cat\"] == consumer_task_name)]\n",
    "    unique_workers = df[\"tid\"].unique()\n",
    "    y_coordinates = {worker: index - 1 for index, worker in enumerate(unique_workers)}\n",
    "\n",
    "    min_start = 1000\n",
    "    ax.plot([0, 0], [0, 0])  # Note: for add_patch to work\n",
    "    for index, row in df.iterrows():\n",
    "        start_time = (index - global_start) / 1_000_000\n",
    "        min_start = min(min_start, start_time)\n",
    "        duration = row[\"dur\"] / 1_000_000\n",
    "        task_name = row[\"cat\"]\n",
    "        worker = row[\"tid\"]\n",
    "        y_coordinate = y_coordinates[worker]\n",
    "\n",
    "        color_index = 1 if task_name == producer_task_name else 2\n",
    "        color = COLORS[color_index]\n",
    "\n",
    "        ax.add_patch(\n",
    "            plt.Rectangle(\n",
    "                (start_time - min_start, y_coordinate),\n",
    "                duration,\n",
    "                0.5,\n",
    "                fill=True,\n",
    "                facecolor=color,\n",
    "                edgecolor=\"grey\",\n",
    "                linewidth=0.01,\n",
    "                zorder=100,\n",
    "            )\n",
    "        )\n",
    "\n",
    "    ax.set_xlabel(\"Time (s)\", fontsize=20)\n",
    "    ax.yaxis.set_visible(False)\n",
    "    ax.tick_params(axis=\"x\", labelsize=20)"
   ]
  },
  {
   "cell_type": "code",
   "execution_count": 11,
   "metadata": {},
   "outputs": [
    {
     "data": {
      "text/plain": [
       "Text(0.5, 1.0, 'timeline.variable.flink.assigned')"
      ]
     },
     "execution_count": 11,
     "metadata": {},
     "output_type": "execute_result"
    },
    {
     "data": {
      "image/png": "[encoded data removed]",
      "text/plain": [
       "<Figure size 3600x1500 with 1 Axes>"
      ]
     },
     "metadata": {},
     "output_type": "display_data"
    }
   ],
   "source": [
    "file_path = \"/home/ubuntu/ray-data-eval/ray_data_eval/video_inference/plotting/timeline.variable.flink.assigned.json\"\n",
    "\n",
    "fig, axs = plt.subplots(1, 1, figsize=(12, 5))\n",
    "\n",
    "df = pd.read_json(file_path)\n",
    "df.set_index(\"ts\", inplace=True)\n",
    "df.sort_index(inplace=True)\n",
    "plot_task_timeline(df, axs)\n",
    "file_name = os.path.basename(file_path)[:-5]\n",
    "plot_task_timeline(df, axs)\n",
    "axs.set_title(file_name, fontsize=20)"
   ]
  },
  {
   "cell_type": "markdown",
   "metadata": {},
   "source": [
    "### Discussion: mapping problem is NP-hard\n",
    "We can reduce the 8 -> 4 mapping problem to the graph coloring problem."
   ]
  },
  {
   "cell_type": "code",
   "execution_count": 6,
   "metadata": {},
   "outputs": [],
   "source": [
    "import networkx as nx\n",
    "import matplotlib.pyplot as plt\n",
    "\n",
    "def build_graph(events):\n",
    "    G = nx.Graph()\n",
    "    for i, event in enumerate(events):\n",
    "        G.add_node(i, start=event['ts'], duration=event['dur'], end=event['ts'] + event['dur'])\n",
    "\n",
    "    for i in range(len(events)):\n",
    "        for j in range(i + 1, len(events)):  \n",
    "            # Event j starts before event i ends, and event i starts before event j ends\n",
    "            if (events[i]['ts'] < events[j]['ts'] + events[j]['dur'] and\n",
    "                events[j]['ts'] < events[i]['ts'] + events[i]['dur'] ):\n",
    "                G.add_edge(i, j)\n",
    "\n",
    "    return G\n",
    "\n",
    "\n",
    "def color_graph(G):\n",
    "    coloring = nx.coloring.greedy_color(G, strategy=\"saturation_largest_first\")\n",
    "    return coloring"
   ]
  },
  {
   "cell_type": "code",
   "execution_count": 7,
   "metadata": {},
   "outputs": [
    {
     "name": "stdout",
     "output_type": "stream",
     "text": [
      "1600\n"
     ]
    }
   ],
   "source": [
    "events = json.loads(open('timeline.variable.flink.json').read())\n",
    "print(len(events))\n",
    "G = build_graph(events)"
   ]
  },
  {
   "cell_type": "code",
   "execution_count": 12,
   "metadata": {},
   "outputs": [
    {
     "name": "stdout",
     "output_type": "stream",
     "text": [
      "Coloring of the graph (each number represents a different slot): {708: 0, 304: 1, 903: 2, 1498: 3, 1104: 4, 104: 5, 508: 6, 1304: 7, 1103: 4, 103: 5, 507: 6, 1303: 7, 1102: 4, 102: 5, 506: 6, 1302: 7, 1101: 4, 101: 5, 505: 6, 1301: 7, 1100: 4, 100: 5, 504: 6, 1300: 7, 1099: 4, 105: 1, 305: 2, 509: 3, 904: 5, 1305: 6, 1499: 7, 709: 0, 1105: 4, 306: 1, 905: 2, 1500: 3, 510: 0, 106: 4, 710: 5, 1306: 6, 1106: 7, 1107: 3, 107: 1, 1307: 2, 511: 0, 1501: 4, 307: 5, 711: 6, 906: 7, 308: 1, 907: 2, 1308: 3, 1108: 0, 1502: 4, 108: 5, 712: 6, 512: 7, 513: 3, 109: 1, 713: 2, 1109: 0, 1309: 4, 309: 5, 908: 6, 1503: 7, 1504: 3, 310: 1, 909: 2, 514: 0, 714: 4, 1310: 5, 110: 6, 1110: 7, 1111: 3, 111: 1, 715: 2, 515: 0, 1505: 4, 910: 5, 311: 6, 1311: 7, 1312: 3, 312: 1, 911: 2, 1112: 0, 1506: 4, 112: 5, 716: 6, 516: 7, 517: 3, 717: 1, 113: 2, 1113: 0, 1313: 4, 313: 5, 912: 6, 1507: 7, 1508: 3, 913: 1, 314: 2, 518: 0, 1314: 4, 718: 5, 114: 6, 1114: 7, 115: 1, 1115: 3, 719: 2, 519: 0, 914: 4, 315: 5, 1315: 6, 1509: 7, 316: 1, 1316: 2, 1510: 3, 116: 0, 915: 4, 520: 5, 720: 6, 1116: 7, 521: 1, 721: 2, 1117: 3, 117: 0, 317: 4, 1511: 5, 916: 6, 1317: 7, 917: 1, 1318: 2, 722: 0, 1512: 3, 118: 4, 318: 5, 522: 6, 1118: 7, 1119: 1, 119: 2, 523: 4, 319: 0, 918: 3, 1319: 5, 723: 6, 1513: 7, 1514: 2, 120: 0, 320: 1, 524: 3, 724: 4, 919: 5, 1120: 6, 1320: 7, 86: 0, 1084: 1, 289: 2, 489: 3, 693: 4, 888: 5, 1285: 6, 1483: 0, 85: 7, 1284: 2, 84: 1, 488: 3, 692: 4, 887: 5, 1083: 6, 1482: 0, 288: 7, 287: 2, 1082: 4, 83: 1, 487: 3, 886: 5, 691: 0, 1481: 6, 1283: 7, 1081: 2, 1282: 3, 82: 1, 1480: 4, 486: 5, 885: 6, 690: 0, 286: 7, 285: 2, 1080: 3, 81: 1, 485: 4, 884: 5, 1479: 6, 1281: 0, 689: 7, 688: 2, 1079: 3, 80: 1, 484: 4, 883: 5, 1478: 6, 1280: 0, 284: 7, 283: 2, 687: 3, 79: 1, 483: 4, 882: 5, 1477: 6, 1279: 0, 1078: 7, 282: 2, 1077: 3, 1476: 1, 482: 4, 78: 5, 881: 6, 1278: 0, 686: 7, 281: 2, 685: 3, 481: 4, 1475: 1, 880: 0, 1277: 5, 77: 6, 1076: 7, 280: 2, 1075: 3, 1474: 1, 76: 0, 1276: 4, 879: 5, 480: 6, 684: 7, 279: 1, 479: 2, 683: 3, 878: 5, 75: 0, 1074: 4, 1275: 6, 1473: 7, 278: 1, 1472: 2, 682: 3, 1274: 5, 74: 0, 1073: 4, 478: 6, 877: 7, 477: 1, 1471: 2, 1072: 3, 681: 4, 73: 0, 876: 5, 277: 6, 1273: 7, 1272: 1, 1470: 2, 1071: 3, 276: 4, 476: 0, 875: 5, 72: 6, 680: 7, 679: 1, 1469: 2, 1070: 3, 71: 4, 275: 5, 874: 6, 1271: 0, 475: 7, 474: 1, 1468: 2, 1069: 3, 873: 4, 274: 0, 1270: 5, 70: 6, 678: 7, 677: 1, 1467: 2, 1068: 3, 69: 4, 273: 0, 1269: 5, 473: 6, 872: 7, 676: 1, 871: 2, 1067: 3, 472: 4, 1268: 0, 1466: 5, 68: 6, 272: 7, 271: 1, 870: 2, 1066: 3, 67: 4, 675: 0, 1465: 5, 471: 6, 1267: 7, 270: 1, 1266: 2, 1065: 3, 470: 4, 674: 0, 1464: 5, 66: 6, 869: 7, 65: 1, 269: 2, 1064: 3, 868: 4, 1265: 0, 1463: 5, 469: 6, 673: 7, 268: 1, 468: 2, 1063: 3, 672: 4, 1264: 0, 1462: 5, 64: 6, 867: 7, 467: 1, 866: 2, 1062: 3, 63: 4, 267: 0, 1461: 5, 671: 6, 1263: 7, 466: 1, 1262: 2, 1061: 3, 670: 4, 266: 0, 1460: 5, 62: 6, 865: 7, 465: 1, 864: 2, 1060: 3, 61: 4, 669: 0, 1261: 5, 265: 6, 1459: 7, 264: 1, 464: 2, 1458: 3, 1059: 4, 863: 0, 1260: 5, 60: 6, 668: 7, 59: 1, 463: 2, 1457: 3, 667: 4, 1259: 5, 1058: 6, 862: 0, 263: 7, 58: 1, 262: 2, 1456: 3, 1057: 4, 1258: 5, 666: 6, 861: 0, 462: 7, 57: 1, 461: 2, 1455: 3, 665: 4, 1257: 5, 1056: 6, 860: 0, 261: 7, 56: 1, 260: 2, 1454: 3, 1055: 4, 1256: 5, 460: 0, 859: 6, 664: 7, 259: 1, 663: 2, 1054: 3, 1255: 4, 55: 0, 459: 5, 858: 6, 1453: 7, 258: 1, 857: 2, 1053: 3, 1452: 4, 54: 0, 458: 5, 662: 6, 1254: 7, 661: 1, 856: 2, 1052: 3, 1253: 4, 53: 0, 457: 5, 257: 6, 1451: 7, 256: 1, 660: 2, 1051: 3, 52: 0, 855: 4, 456: 5, 1252: 6, 1450: 7, 255: 1, 1251: 2, 455: 3, 1449: 5, 51: 0, 854: 4, 659: 6, 1050: 7, 254: 1, 1049: 2, 454: 3, 658: 5, 50: 0, 1250: 4, 853: 6, 1448: 7, 253: 1, 1447: 2, 453: 3, 852: 5, 49: 0, 1249: 4, 657: 6, 1048: 7, 1047: 1, 1446: 2, 252: 0, 452: 3, 48: 4, 656: 5, 851: 6, 1248: 7, 850: 1, 1046: 2, 47: 4, 655: 5, 251: 0, 1445: 3, 451: 6, 1247: 7, 1045: 1, 1246: 2, 46: 4, 450: 5, 250: 0, 1444: 3, 654: 6, 849: 7, 848: 1, 1044: 2, 45: 4, 653: 5, 249: 0, 1443: 3, 449: 6, 1245: 7, 847: 1, 1244: 2, 44: 4, 448: 5, 248: 0, 1442: 3, 652: 6, 1043: 7, 1042: 1, 1243: 2, 43: 4, 651: 5, 447: 0, 846: 3, 247: 6, 1441: 7, 246: 1, 1242: 2, 42: 4, 1440: 5, 845: 0, 1041: 3, 446: 6, 650: 7, 445: 1, 1241: 2, 41: 4, 649: 5, 844: 0, 1040: 3, 245: 6, 1439: 7, 444: 1, 1438: 2, 244: 4, 40: 5, 843: 0, 1039: 3, 648: 6, 1240: 7, 443: 1, 647: 2, 243: 4, 1239: 5, 842: 0, 1038: 3, 39: 6, 1437: 7, 646: 1, 1436: 2, 38: 4, 242: 5, 442: 0, 1037: 3, 841: 6, 1238: 7, 645: 1, 840: 2, 37: 4, 1237: 5, 241: 0, 1435: 3, 441: 6, 1036: 7, 440: 1, 644: 2, 1035: 4, 36: 5, 240: 0, 1434: 3, 839: 6, 1236: 7, 643: 1, 838: 2, 1034: 4, 35: 0, 439: 3, 239: 5, 1235: 6, 1433: 7, 837: 1, 1234: 2, 238: 4, 1432: 5, 34: 0, 438: 3, 642: 6, 1033: 7, 641: 1, 1233: 2, 237: 4, 1032: 5, 836: 0, 1431: 3, 33: 6, 437: 7, 436: 1, 1232: 2, 236: 4, 32: 5, 835: 0, 1430: 3, 640: 6, 1031: 7, 639: 1, 1231: 2, 1030: 4, 235: 5, 435: 0, 1429: 3, 31: 6, 834: 7, 30: 1, 1230: 2, 1029: 4, 833: 5, 434: 0, 638: 3, 234: 6, 1428: 7, 1229: 1, 1427: 2, 1028: 4, 233: 5, 433: 0, 637: 3, 29: 6, 832: 7, 28: 1, 1426: 2, 1027: 4, 831: 5, 432: 0, 636: 3, 232: 6, 1228: 7, 1227: 1, 1425: 2, 231: 4, 1026: 5, 27: 0, 635: 3, 431: 6, 830: 7, 430: 1, 1424: 2, 230: 4, 829: 5, 1226: 0, 26: 3, 634: 6, 1025: 7, 429: 1, 633: 2, 229: 4, 1024: 3, 25: 0, 1225: 5, 828: 6, 1423: 7, 428: 1, 1422: 2, 1023: 3, 827: 4, 24: 0, 1224: 5, 228: 6, 632: 7, 227: 1, 1421: 2, 1022: 3, 631: 4, 427: 0, 1223: 5, 23: 6, 826: 7, 22: 1, 1420: 2, 1021: 3, 825: 4, 1222: 5, 630: 0, 426: 6, 226: 7, 225: 1, 1419: 2, 1020: 3, 1221: 4, 425: 5, 824: 0, 629: 6, 21: 7, 20: 1, 224: 2, 1019: 3, 424: 4, 628: 5, 1220: 6, 823: 0, 1418: 7, 19: 1, 1417: 2, 1018: 3, 1219: 4, 627: 5, 423: 6, 822: 0, 223: 7, 222: 1, 1416: 2, 422: 3, 1017: 4, 626: 5, 1218: 6, 821: 0, 18: 7, 17: 1, 1415: 2, 421: 3, 1217: 4, 625: 5, 1016: 6, 820: 0, 221: 7, 220: 1, 1414: 2, 420: 3, 1015: 4, 1216: 5, 624: 6, 819: 0, 16: 7, 15: 1, 219: 2, 623: 3, 419: 4, 1014: 5, 1215: 6, 818: 0, 1413: 7, 218: 1, 1412: 2, 622: 3, 1214: 4, 1013: 5, 418: 6, 817: 0, 14: 7, 13: 1, 1411: 2, 621: 3, 417: 4, 1012: 5, 1213: 6, 816: 0, 217: 7, 216: 1, 1410: 2, 620: 3, 1212: 4, 1011: 5, 416: 6, 815: 0, 12: 7, 11: 1, 215: 2, 415: 3, 619: 4, 1010: 5, 1211: 6, 1409: 0, 814: 7, 214: 1, 813: 2, 414: 3, 618: 4, 1009: 5, 1210: 6, 1408: 0, 10: 7, 9: 1, 213: 2, 1008: 3, 1209: 5, 617: 4, 413: 6, 1407: 0, 812: 7, 8: 1, 811: 2, 1007: 3, 412: 5, 616: 4, 1208: 6, 212: 0, 1406: 7, 7: 1, 1405: 2, 1006: 3, 1207: 5, 615: 4, 411: 6, 810: 0, 211: 7, 210: 1, 6: 2, 410: 3, 1005: 5, 614: 4, 1206: 6, 5: 0, 209: 1, 409: 2, 613: 3, 4: 0, 208: 1, 408: 2, 612: 3, 3: 0, 207: 1, 407: 2, 611: 3, 2: 0, 206: 1, 406: 2, 610: 3, 1: 0, 205: 1, 405: 2, 609: 3, 0: 0, 290: 1, 490: 2, 889: 3, 1085: 4, 1286: 5, 1484: 6, 694: 7, 695: 0, 87: 1, 890: 2, 1086: 3, 1287: 4, 1485: 5, 291: 6, 491: 7, 492: 0, 88: 1, 292: 2, 696: 3, 891: 4, 1087: 5, 1288: 6, 1486: 7, 493: 0, 89: 1, 293: 2, 697: 3, 892: 4, 1289: 5, 1487: 6, 1088: 7, 494: 0, 90: 1, 698: 2, 893: 3, 1089: 4, 1290: 5, 1488: 6, 294: 7, 495: 0, 91: 1, 295: 2, 699: 3, 894: 4, 1291: 5, 1489: 6, 1090: 7, 1091: 0, 92: 1, 296: 2, 496: 3, 700: 4, 1292: 5, 1490: 6, 895: 7, 896: 0, 93: 1, 297: 2, 497: 3, 701: 4, 1092: 5, 1293: 6, 1491: 7, 131: 0, 535: 1, 1331: 2, 930: 3, 1525: 4, 735: 5, 331: 6, 1131: 7, 1132: 0, 332: 1, 736: 2, 132: 3, 931: 4, 536: 5, 1332: 6, 1526: 7, 1527: 0, 1333: 1, 537: 2, 133: 3, 1133: 4, 333: 5, 737: 6, 932: 7, 933: 0, 738: 1, 334: 2, 1130: 3, 1524: 4, 330: 2, 1330: 5, 734: 1, 534: 6, 929: 0, 130: 7, 1129: 3, 1134: 3, 1528: 4, 1334: 5, 538: 6, 134: 7, 135: 0, 539: 1, 1335: 2, 934: 3, 1529: 4, 739: 5, 335: 6, 1135: 7, 1136: 0, 336: 1, 740: 2, 136: 3, 935: 4, 540: 5, 1336: 6, 1530: 7, 1531: 0, 1337: 1, 541: 2, 137: 3, 1137: 4, 337: 5, 741: 6, 936: 7, 937: 0, 742: 1, 338: 2, 1138: 3, 1532: 4, 1338: 5, 542: 6, 138: 7, 139: 0, 543: 1, 1339: 2, 938: 3, 1533: 4, 743: 5, 339: 6, 1139: 7, 1140: 0, 340: 1, 744: 2, 140: 3, 939: 4, 544: 5, 1340: 6, 1534: 7, 1535: 0, 1341: 1, 545: 2, 141: 3, 1141: 4, 341: 5, 745: 6, 940: 7, 941: 0, 746: 1, 342: 2, 1142: 3, 1536: 4, 1342: 5, 546: 6, 142: 7, 143: 0, 547: 1, 1343: 2, 942: 3, 1537: 4, 747: 5, 343: 6, 1143: 7, 1144: 0, 344: 1, 748: 2, 144: 3, 943: 4, 548: 5, 1344: 6, 1538: 7, 1539: 0, 1345: 1, 549: 2, 145: 3, 1145: 4, 345: 5, 749: 6, 944: 7, 945: 0, 750: 1, 346: 2, 1146: 3, 1540: 4, 1346: 5, 550: 6, 146: 7, 147: 0, 551: 1, 1347: 2, 946: 3, 1541: 4, 751: 5, 347: 6, 1147: 7, 1148: 0, 348: 1, 752: 2, 148: 3, 947: 4, 552: 5, 1348: 6, 1542: 7, 1543: 0, 1349: 1, 553: 2, 149: 3, 1149: 4, 349: 5, 753: 6, 948: 7, 754: 0, 949: 1, 350: 2, 1150: 3, 1544: 4, 1350: 5, 554: 6, 150: 7, 151: 1, 555: 0, 1351: 2, 950: 3, 1545: 4, 755: 5, 351: 6, 1151: 7, 352: 0, 1152: 1, 756: 2, 556: 3, 951: 4, 152: 5, 1352: 6, 1546: 7, 1547: 0, 1353: 1, 153: 2, 557: 3, 1153: 4, 353: 5, 757: 6, 952: 7, 758: 0, 953: 1, 354: 2, 1154: 3, 1548: 4, 1354: 5, 154: 6, 558: 7, 155: 0, 559: 1, 1355: 2, 954: 3, 1549: 4, 759: 5, 355: 6, 1155: 7, 356: 0, 1156: 1, 760: 2, 156: 3, 955: 4, 1356: 5, 560: 6, 1550: 7, 1551: 0, 561: 1, 1357: 2, 157: 3, 357: 4, 1157: 5, 761: 6, 956: 7, 957: 0, 762: 1, 1158: 2, 358: 3, 1552: 4, 562: 5, 1358: 6, 158: 7, 159: 0, 1359: 1, 563: 2, 958: 3, 1553: 4, 763: 5, 359: 6, 1159: 7, 1160: 0, 1360: 1, 764: 2, 160: 3, 959: 4, 360: 5, 564: 6, 1554: 7, 565: 0, 1555: 1, 361: 2, 161: 3, 1361: 4, 1161: 5, 765: 6, 960: 7, 766: 0, 961: 1, 1162: 2, 566: 3, 1362: 4, 1556: 5, 162: 6, 362: 7, 163: 0, 363: 1, 1557: 2, 962: 3, 567: 4, 767: 5, 1163: 6, 1363: 7, 1164: 0, 1364: 1, 768: 2, 164: 3, 963: 4, 364: 5, 568: 6, 1558: 7, 569: 0, 1559: 1, 365: 2, 165: 3, 1365: 4, 1165: 5, 769: 6, 964: 7, 770: 0, 965: 1, 1166: 2, 1366: 3, 1560: 4, 570: 5, 166: 6, 366: 7, 167: 0, 367: 1, 571: 2, 966: 3, 1561: 4, 771: 5, 1167: 6, 1367: 7, 1368: 0, 1168: 1, 772: 2, 168: 3, 967: 4, 368: 5, 572: 6, 1562: 7, 1563: 0, 573: 1, 369: 2, 169: 3, 1369: 4, 773: 5, 1169: 6, 968: 7, 969: 0, 1170: 1, 370: 2, 1370: 3, 1564: 4, 574: 5, 774: 6, 170: 7, 171: 0, 775: 2, 575: 1, 970: 3, 1565: 4, 371: 5, 1171: 6, 1371: 7, 1372: 0, 1172: 2, 372: 1, 172: 3, 971: 4, 776: 5, 576: 6, 1566: 7, 1567: 0, 577: 2, 777: 1, 173: 3, 1373: 4, 1173: 5, 373: 6, 972: 7, 973: 0, 374: 2, 1174: 1, 1374: 3, 1568: 4, 578: 5, 174: 6, 778: 7, 175: 0, 779: 2, 579: 1, 974: 3, 375: 4, 1569: 5, 1175: 6, 1375: 7, 1176: 0, 1376: 2, 376: 1, 129: 2, 533: 1, 1329: 4, 329: 5, 733: 6, 1523: 0, 928: 7, 128: 2, 927: 3, 328: 1, 732: 4, 532: 5, 1328: 6, 1128: 0, 1522: 7, 926: 2, 1521: 3, 176: 3, 780: 4, 975: 5, 580: 6, 1570: 7, 581: 0, 1571: 2, 1327: 1, 327: 4, 531: 5, 731: 6, 127: 0, 1127: 7, 177: 1, 1177: 3, 1377: 4, 781: 5, 377: 6, 976: 7, 378: 0, 977: 2, 582: 1, 1378: 3, 782: 4, 1178: 5, 1572: 6, 178: 7, 179: 0, 1573: 2, 783: 3, 379: 1, 583: 4, 978: 5, 1179: 6, 1379: 7, 1380: 0, 1180: 2, 979: 3, 180: 1, 380: 4, 1574: 5, 784: 6, 584: 7, 585: 0, 785: 2, 1575: 3, 181: 1, 1181: 4, 1381: 5, 980: 6, 381: 7, 382: 0, 981: 2, 586: 1, 182: 3, 786: 4, 1382: 5, 1576: 6, 1182: 7, 1183: 0, 1577: 2, 787: 3, 383: 1, 587: 4, 982: 5, 183: 6, 1383: 7, 184: 0, 1384: 2, 983: 3, 384: 1, 1184: 4, 1578: 5, 588: 6, 788: 7, 589: 0, 789: 2, 1579: 3, 1185: 1, 1385: 4, 185: 5, 984: 6, 385: 7, 386: 0, 186: 2, 985: 3, 590: 1, 1386: 4, 790: 5, 1580: 6, 1186: 7, 1187: 0, 1581: 2, 791: 3, 387: 1, 591: 4, 187: 5, 986: 6, 1387: 7, 987: 0, 792: 2, 188: 3, 388: 1, 1188: 4, 1388: 5, 1582: 6, 592: 7, 593: 2, 1389: 0, 793: 1, 1189: 3, 189: 4, 1583: 5, 389: 6, 988: 7, 1390: 0, 989: 2, 190: 4, 594: 1, 794: 3, 390: 5, 1584: 6, 1190: 7, 1191: 2, 1585: 0, 595: 1, 990: 3, 795: 4, 1391: 5, 191: 6, 391: 7, 392: 2, 192: 0, 1392: 4, 991: 1, 1192: 3, 1586: 5, 796: 6, 596: 7, 597: 2, 797: 0, 1587: 4, 193: 1, 393: 3, 1193: 5, 1393: 6, 992: 7, 993: 2, 1394: 0, 598: 1, 1194: 3, 394: 4, 798: 5, 1588: 6, 194: 7, 195: 2, 1589: 0, 799: 4, 599: 1, 994: 3, 1395: 5, 395: 6, 1195: 7, 1196: 2, 396: 0, 1396: 4, 196: 1, 995: 3, 1590: 5, 600: 6, 800: 7, 601: 0, 801: 2, 1591: 4, 397: 1, 197: 3, 1197: 5, 996: 6, 1397: 7, 1398: 0, 997: 2, 1198: 3, 802: 1, 398: 4, 602: 5, 198: 6, 1592: 7, 1593: 0, 530: 2, 730: 1, 1126: 3, 1520: 4, 925: 0, 126: 5, 326: 6, 1326: 7, 1199: 2, 603: 1, 998: 3, 1399: 4, 199: 5, 803: 6, 399: 7, 400: 0, 200: 2, 1400: 1, 1594: 3, 999: 4, 1200: 5, 604: 6, 804: 7, 605: 0, 805: 2, 1201: 4, 201: 1, 401: 3, 1595: 5, 1000: 6, 1401: 7, 1402: 2, 1001: 0, 402: 3, 806: 1, 202: 4, 606: 5, 1202: 6, 1596: 7, 1002: 0, 1203: 2, 607: 3, 807: 1, 1403: 4, 1597: 5, 203: 6, 403: 7, 204: 0, 404: 2, 1003: 1, 608: 3, 808: 4, 1204: 5, 1404: 6, 1598: 7, 125: 1, 325: 2, 729: 3, 1125: 4, 1519: 0, 529: 5, 924: 6, 1325: 7, 124: 1, 324: 2, 528: 3, 923: 4, 1124: 0, 728: 5, 1324: 6, 1518: 7, 123: 1, 527: 2, 727: 3, 922: 4, 1323: 5, 1517: 6, 323: 0, 1123: 7, 809: 0, 1205: 2, 1599: 3, 1004: 1, 1322: 0, 920: 1, 1121: 2, 1515: 3, 121: 0, 321: 4, 525: 5, 725: 6, 1321: 7, 122: 1, 322: 2, 526: 3, 726: 4, 921: 5, 1122: 6, 1516: 7, 94: 0, 298: 1, 498: 2, 702: 3, 897: 4, 1093: 5, 1294: 6, 1492: 7, 95: 0, 299: 1, 499: 2, 703: 3, 898: 4, 1094: 5, 1295: 6, 1493: 7, 96: 0, 300: 1, 500: 2, 704: 3, 899: 4, 1095: 5, 1296: 6, 1494: 7, 97: 0, 301: 1, 501: 2, 705: 3, 900: 4, 1096: 5, 1297: 6, 1495: 7, 98: 0, 302: 1, 502: 2, 706: 3, 901: 4, 1097: 5, 1298: 6, 1496: 7, 99: 0, 303: 1, 503: 2, 707: 3, 902: 4, 1098: 5, 1299: 6, 1497: 7}\n",
      "Number of slots used: 8\n"
     ]
    }
   ],
   "source": [
    "coloring = color_graph(G)\n",
    "print(\"Coloring of the graph (each number represents a different slot):\", coloring)\n",
    "print(\"Number of slots used:\", max(coloring.values()) + 1)"
   ]
  },
  {
   "cell_type": "code",
   "execution_count": null,
   "metadata": {},
   "outputs": [],
   "source": []
  }
 ],
 "metadata": {
  "kernelspec": {
   "display_name": "ray-gpu",
   "language": "python",
   "name": "python3"
  },
  "language_info": {
   "codemirror_mode": {
    "name": "ipython",
    "version": 3
   },
   "file_extension": ".py",
   "mimetype": "text/x-python",
   "name": "python",
   "nbconvert_exporter": "python",
   "pygments_lexer": "ipython3",
   "version": "3.10.14"
  }
 },
 "nbformat": 4,
 "nbformat_minor": 2
}
